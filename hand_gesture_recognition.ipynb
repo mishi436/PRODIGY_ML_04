{
 "cells": [
  {
   "cell_type": "markdown",
   "id": "a0c9bbfa",
   "metadata": {},
   "source": [
    "# ✋ Hand Gesture Recognition using LeapGestRecog Dataset\n",
    "\n",
    "Build a gesture-based control system using image classification with SVM."
   ]
  },
  {
   "cell_type": "code",
   "execution_count": null,
   "id": "f6efc116",
   "metadata": {},
   "outputs": [],
   "source": [
    "from google.colab import drive\n",
    "drive.mount('/content/drive')\n"
   ]
  },
  {
   "cell_type": "code",
   "execution_count": null,
   "id": "c6cb3452",
   "metadata": {},
   "outputs": [],
   "source": [
    "import zipfile\n",
    "import os\n",
    "\n",
    "zip_path = \"/content/drive/MyDrive/leapGestRecog.zip\"  # Update path if different\n",
    "extract_path = \"/content/data/gestures\"\n",
    "\n",
    "with zipfile.ZipFile(zip_path, 'r') as zip_ref:\n",
    "    zip_ref.extractall(extract_path)\n"
   ]
  },
  {
   "cell_type": "code",
   "execution_count": null,
   "id": "758631c2",
   "metadata": {},
   "outputs": [],
   "source": [
    "!pip install opencv-python-headless scikit-learn matplotlib tqdm\n"
   ]
  },
  {
   "cell_type": "code",
   "execution_count": null,
   "id": "e797600d",
   "metadata": {},
   "outputs": [],
   "source": [
    "import cv2\n",
    "import numpy as np\n",
    "from tqdm import tqdm\n",
    "from sklearn.model_selection import train_test_split\n",
    "from sklearn.svm import SVC\n",
    "from sklearn.metrics import classification_report, accuracy_score\n",
    "import os\n",
    "\n",
    "def load_gesture_images(data_dir, img_size=64):\n",
    "    X = []\n",
    "    y = []\n",
    "    label_dict = {}\n",
    "    label_counter = 0\n",
    "\n",
    "    for person_folder in sorted(os.listdir(data_dir)):\n",
    "        person_path = os.path.join(data_dir, person_folder)\n",
    "        if not os.path.isdir(person_path):\n",
    "            continue\n",
    "        for gesture_folder in sorted(os.listdir(person_path)):\n",
    "            gesture_path = os.path.join(person_path, gesture_folder)\n",
    "            if not os.path.isdir(gesture_path):\n",
    "                continue\n",
    "            label = gesture_folder\n",
    "            if label not in label_dict:\n",
    "                label_dict[label] = label_counter\n",
    "                label_counter += 1\n",
    "            for img_name in os.listdir(gesture_path):\n",
    "                img_path = os.path.join(gesture_path, img_name)\n",
    "                img = cv2.imread(img_path, cv2.IMREAD_GRAYSCALE)\n",
    "                if img is None:\n",
    "                    continue\n",
    "                img = cv2.resize(img, (img_size, img_size))\n",
    "                X.append(img.flatten())\n",
    "                y.append(label_dict[label])\n",
    "    return np.array(X), np.array(y), label_dict\n",
    "\n",
    "data_dir = \"/content/data/gestures/leapGestRecog\"\n",
    "X, y, label_dict = load_gesture_images(data_dir)\n",
    "print(\"Loaded:\", X.shape, y.shape)\n",
    "print(\"Classes:\", label_dict)\n"
   ]
  },
  {
   "cell_type": "code",
   "execution_count": null,
   "id": "881892ea",
   "metadata": {},
   "outputs": [],
   "source": [
    "X_train, X_test, y_train, y_test = train_test_split(X, y, test_size=0.2, random_state=42)\n",
    "\n",
    "model = SVC(kernel='linear', verbose=True)\n",
    "model.fit(X_train, y_train)\n",
    "\n",
    "y_pred = model.predict(X_test)\n",
    "print(\"Accuracy:\", accuracy_score(y_test, y_pred))\n",
    "print(classification_report(y_test, y_pred))\n"
   ]
  },
  {
   "cell_type": "code",
   "execution_count": null,
   "id": "e973a1c0",
   "metadata": {},
   "outputs": [],
   "source": [
    "import matplotlib.pyplot as plt\n",
    "\n",
    "inv_label_dict = {v: k for k, v in label_dict.items()}\n",
    "\n",
    "def show_gesture_predictions(model, X_test, y_test, img_size=64):\n",
    "    indices = np.random.choice(len(X_test), 9)\n",
    "    plt.figure(figsize=(10, 10))\n",
    "    for i, idx in enumerate(indices):\n",
    "        img = X_test[idx].reshape(img_size, img_size)\n",
    "        true = inv_label_dict[y_test[idx]]\n",
    "        pred = inv_label_dict[model.predict([X_test[idx]])[0]]\n",
    "        plt.subplot(3, 3, i + 1)\n",
    "        plt.imshow(img, cmap='gray')\n",
    "        plt.title(f\"True: {true}\\nPred: {pred}\")\n",
    "        plt.axis('off')\n",
    "    plt.tight_layout()\n",
    "    plt.show()\n",
    "\n",
    "show_gesture_predictions(model, X_test, y_test)\n"
   ]
  }
 ],
 "metadata": {},
 "nbformat": 4,
 "nbformat_minor": 5
}